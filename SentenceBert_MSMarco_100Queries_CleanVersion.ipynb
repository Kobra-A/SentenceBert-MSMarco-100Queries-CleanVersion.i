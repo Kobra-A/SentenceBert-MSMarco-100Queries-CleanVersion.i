{
  "nbformat": 4,
  "nbformat_minor": 0,
  "metadata": {
    "colab": {
      "name": "SentenceBert-MSMarco-100Queries-CleanVersion.ipynb",
      "provenance": [],
      "collapsed_sections": [],
      "include_colab_link": true
    },
    "kernelspec": {
      "display_name": "Python 3",
      "language": "python",
      "name": "python3"
    },
    "language_info": {
      "codemirror_mode": {
        "name": "ipython",
        "version": 3
      },
      "file_extension": ".py",
      "mimetype": "text/x-python",
      "name": "python",
      "nbconvert_exporter": "python",
      "pygments_lexer": "ipython3",
      "version": "3.7.7"
    },
    "accelerator": "GPU"
  },
  "cells": [
    {
      "cell_type": "markdown",
      "metadata": {
        "id": "view-in-github",
        "colab_type": "text"
      },
      "source": [
        "<a href=\"https://colab.research.google.com/github/Kobra-A/SentenceBert-MSMarco-100Queries-CleanVersion.i/blob/main/SentenceBert_MSMarco_100Queries_CleanVersion.ipynb\" target=\"_parent\"><img src=\"https://colab.research.google.com/assets/colab-badge.svg\" alt=\"Open In Colab\"/></a>"
      ]
    },
    {
      "cell_type": "code",
      "metadata": {
        "colab": {
          "base_uri": "https://localhost:8080/"
        },
        "id": "sxhdo2pG0EAy",
        "outputId": "6e69103d-c4f8-4bed-8f67-28e0c4432cad"
      },
      "source": [
        "!curl https://msmarco.blob.core.windows.net/msmarcoranking/top1000.dev.tar.gz | tar xz"
      ],
      "execution_count": null,
      "outputs": [
        {
          "output_type": "stream",
          "text": [
            "  % Total    % Received % Xferd  Average Speed   Time    Time     Time  Current\n",
            "                                 Dload  Upload   Total   Spent    Left  Speed\n",
            "100  655M  100  655M    0     0  1695k      0  0:06:36  0:06:36 --:--:-- 1658k\n"
          ],
          "name": "stdout"
        }
      ]
    },
    {
      "cell_type": "code",
      "metadata": {
        "colab": {
          "base_uri": "https://localhost:8080/"
        },
        "id": "8BzltuTsBLDg",
        "outputId": "0d7f7643-7786-48d6-ecd4-fd7a5f7a2633"
      },
      "source": [
        "import nltk\n",
        "nltk.download('punkt')"
      ],
      "execution_count": null,
      "outputs": [
        {
          "output_type": "stream",
          "text": [
            "[nltk_data] Downloading package punkt to /root/nltk_data...\n",
            "[nltk_data]   Unzipping tokenizers/punkt.zip.\n"
          ],
          "name": "stdout"
        },
        {
          "output_type": "execute_result",
          "data": {
            "text/plain": [
              "True"
            ]
          },
          "metadata": {
            "tags": []
          },
          "execution_count": 3
        }
      ]
    },
    {
      "cell_type": "code",
      "metadata": {
        "id": "9qrDFODo0EA1"
      },
      "source": [
        "import pandas as pd\n",
        "import numpy as np\n",
        "from tqdm import tqdm"
      ],
      "execution_count": null,
      "outputs": []
    },
    {
      "cell_type": "markdown",
      "metadata": {
        "id": "cV-UykObDsSr"
      },
      "source": [
        "Sentence-Bert for Semantic Search"
      ]
    },
    {
      "cell_type": "code",
      "metadata": {
        "id": "LT2RhzMIKnp1"
      },
      "source": [
        "pip install -U sentence-transformers"
      ],
      "execution_count": null,
      "outputs": []
    },
    {
      "cell_type": "code",
      "metadata": {
        "id": "AfGp6q9C6ta_"
      },
      "source": [
        "from sentence_transformers import SentenceTransformer, util\n",
        "model = SentenceTransformer('msmarco-distilbert-base-v2')\n",
        "from nltk.tokenize import sent_tokenize"
      ],
      "execution_count": null,
      "outputs": []
    },
    {
      "cell_type": "code",
      "metadata": {
        "id": "5Quwhq2Q0EA0",
        "colab": {
          "base_uri": "https://localhost:8080/"
        },
        "outputId": "4b7bd415-5767-4c04-b938-54da0c1788ec"
      },
      "source": [
        "!ls -al top1000.dev"
      ],
      "execution_count": null,
      "outputs": [
        {
          "output_type": "stream",
          "text": [
            "-rwxrwx--- 1 8045835 1049089 2609106237 Jul 17  2019 top1000.dev\n"
          ],
          "name": "stdout"
        }
      ]
    },
    {
      "cell_type": "code",
      "metadata": {
        "id": "pruF3PnQ0EA1"
      },
      "source": [
        "df = pd.read_csv('top1000.dev', delimiter='\\t', names=('qid', 'pid', 'query', 'passage'))"
      ],
      "execution_count": null,
      "outputs": []
    },
    {
      "cell_type": "code",
      "metadata": {
        "id": "Ey4Znawf0EA2"
      },
      "source": [
        "gb = df.groupby('query')"
      ],
      "execution_count": null,
      "outputs": []
    },
    {
      "cell_type": "markdown",
      "metadata": {
        "id": "VhCpsgvaGLiw"
      },
      "source": [
        "1. Finding the most relevant sentence in each paragraph for each query"
      ]
    },
    {
      "cell_type": "code",
      "metadata": {
        "colab": {
          "base_uri": "https://localhost:8080/"
        },
        "id": "uf7NEcm6w3Dy",
        "outputId": "8bacf668-ecc5-4957-cb4e-7818527b73c4"
      },
      "source": [
        "Query_embedding=[]\n",
        "for name, group in tqdm(gb):\n",
        "  Query_embedding.append(model.encode(name))"
      ],
      "execution_count": null,
      "outputs": [
        {
          "output_type": "stream",
          "text": [
            "100%|██████████| 6980/6980 [00:55<00:00, 125.99it/s]\n"
          ],
          "name": "stderr"
        }
      ]
    },
    {
      "cell_type": "code",
      "metadata": {
        "id": "iJAV1h1KgXRs"
      },
      "source": [
        "passage_embedding=[]\n",
        "Passage_Embedding=[]\n",
        "count=100\n",
        "for name, group in tqdm(gb):\n",
        "  passage_embedding=[]\n",
        "  print(len(group))\n",
        "  if count>0:\n",
        "    count=count-1\n",
        "    for i in tqdm(range(0,len(group)-1)):\n",
        "      passage_embedding.append(model.encode(sent_tokenize(group[\"passage\"].iloc[i])))\n",
        "    Passage_Embedding.append(passage_embedding)"
      ],
      "execution_count": null,
      "outputs": []
    },
    {
      "cell_type": "code",
      "metadata": {
        "colab": {
          "base_uri": "https://localhost:8080/"
        },
        "id": "1Og8rhUcBb2w",
        "outputId": "5c9bb6f7-e395-43a1-9082-fed8c54a5d7d"
      },
      "source": [
        "print(len(Passage_Embedding))"
      ],
      "execution_count": null,
      "outputs": [
        {
          "output_type": "stream",
          "text": [
            "100\n"
          ],
          "name": "stdout"
        }
      ]
    },
    {
      "cell_type": "code",
      "metadata": {
        "id": "iPTEzU6mHGaV"
      },
      "source": [
        "Max=[]\n",
        "Index=[]\n",
        "for i in tqdm(range(0,100)):\n",
        "  max=[]\n",
        "  index=[]\n",
        "  for j in tqdm(range(0,len(Passage_Embedding[i]))):\n",
        "    array=util.pytorch_cos_sim(Query_embedding[i], Passage_Embedding[i][j]).numpy()[0] #Fiding the cosine similarity of each query with each sentences in passage i \n",
        "    max.append(np.amax(array)) # Maximum Similarity in paragraph i\n",
        "    index.append(np.argmax(array)) # index of the most similar sentence in the paragraph i\n",
        "    #sentence.append(sent_tokenize(group[\"passage\"].iloc[i])[np.argmax(array)]) # The most similar sentence in the paragraph i with query name\n",
        "  Max.append(max)\n",
        "  Index.append(index)\n",
        " # Sentence.append(sentence)"
      ],
      "execution_count": null,
      "outputs": []
    },
    {
      "cell_type": "markdown",
      "metadata": {
        "id": "ju0_Gaa6GbNK"
      },
      "source": [
        "2. Rank paragraphs based on their cosine similarities"
      ]
    },
    {
      "cell_type": "code",
      "metadata": {
        "id": "N2tgjygvvkQB"
      },
      "source": [
        "def Sort(array): #Sort the passages based on similarity and returns an array containing the index of passages in descending order\n",
        "  temp = array.argsort() #index of ranked passages ascending similarity\n",
        "  index_Des=temp[::-1] #index of ranked passages descending similarity---------------- #The one that I need\n",
        "  Similarity_Des=array[temp[::-1]] #similarity of passages descending\n",
        "  return index_Des"
      ],
      "execution_count": null,
      "outputs": []
    },
    {
      "cell_type": "code",
      "metadata": {
        "id": "CG7CfidMXfzR"
      },
      "source": [
        "def rank(a):\n",
        "  index=a\n",
        "  Rank=[]\n",
        "  for i in range(1,len(a)+1):\n",
        "    Rank.append(0)\n",
        "  for i in range(0,len(a)):\n",
        "    Rank[a[i]]=i+1\n",
        "  return Rank"
      ],
      "execution_count": null,
      "outputs": []
    },
    {
      "cell_type": "code",
      "metadata": {
        "id": "F6PzNX5gwSxz"
      },
      "source": [
        "Index_Desending=[] #index of sorted passages descending similarity\n",
        "TOTAL_RANK=[] #rank of passages based on similarity\n",
        "for i in range(0,len(Max)):\n",
        "  array=np.array(Max[i]) # Similarity of first query with related passages\n",
        "  index_Desending=Sort(array) #index of sorted passages descending similarity---------------- #The one that I need\n",
        "  Index_Desending.append(index_Desending)\n",
        "  RANK=rank(index_Desending)\n",
        "  TOTAL_RANK.append(RANK)"
      ],
      "execution_count": null,
      "outputs": []
    },
    {
      "cell_type": "code",
      "metadata": {
        "colab": {
          "base_uri": "https://localhost:8080/"
        },
        "id": "-Ej4JKM8pkc-",
        "outputId": "95751d53-2819-42f3-8a43-6840b6ffd1ae"
      },
      "source": [
        "print(TOTAL_RANK[0])"
      ],
      "execution_count": null,
      "outputs": [
        {
          "output_type": "stream",
          "text": [
            "[53, 934, 343, 16, 90, 480, 683, 884, 932, 783, 771, 203, 92, 152, 263, 299, 286, 544, 554, 359, 61, 360, 156, 207, 528, 880, 550, 475, 655, 270, 517, 439, 617, 362, 728, 688, 593, 960, 609, 335, 275, 371, 539, 95, 946, 845, 485, 1, 162, 693, 968, 809, 361, 945, 28, 109, 898, 19, 434, 390, 196, 276, 944, 943, 542, 690, 127, 612, 640, 101, 42, 629, 20, 112, 941, 676, 518, 459, 43, 726, 600, 965, 738, 462, 857, 370, 260, 926, 35, 64, 412, 607, 519, 712, 826, 280, 453, 541, 810, 363, 314, 88, 21, 145, 549, 98, 159, 833, 143, 576, 199, 802, 707, 413, 449, 615, 469, 586, 878, 358, 921, 292, 818, 624, 460, 420, 639, 991, 369, 969, 63, 71, 200, 919, 301, 621, 515, 313, 454, 671, 896, 349, 598, 743, 433, 762, 735, 180, 936, 638, 663, 956, 815, 710, 753, 740, 808, 954, 995, 756, 583, 76, 331, 121, 975, 973, 146, 613, 493, 669, 308, 765, 424, 74, 183, 438, 854, 864, 703, 169, 430, 5, 450, 122, 102, 351, 788, 657, 667, 285, 822, 305, 774, 877, 933, 300, 421, 536, 579, 388, 741, 540, 401, 304, 581, 689, 782, 627, 317, 872, 837, 157, 562, 795, 698, 731, 220, 470, 56, 649, 906, 915, 364, 168, 636, 685, 334, 261, 86, 940, 133, 981, 564, 393, 228, 125, 322, 817, 659, 503, 923, 902, 887, 249, 215, 680, 77, 851, 406, 506, 487, 166, 760, 793, 706, 491, 184, 231, 197, 489, 778, 442, 734, 405, 947, 606, 110, 532, 681, 324, 529, 911, 559, 255, 31, 330, 575, 863, 682, 709, 120, 130, 982, 423, 578, 643, 149, 742, 264, 27, 134, 501, 853, 172, 57, 350, 673, 701, 190, 780, 561, 797, 483, 114, 289, 696, 68, 66, 126, 610, 398, 253, 805, 908, 997, 971, 993, 974, 938, 484, 792, 115, 904, 876, 796, 767, 15, 622, 721, 763, 82, 327, 912, 616, 779, 755, 642, 951, 81, 588, 230, 806, 104, 32, 219, 365, 281, 229, 918, 513, 431, 850, 849, 376, 719, 392, 988, 744, 178, 48, 182, 770, 592, 862, 930, 736, 976, 287, 603, 925, 213, 986, 366, 937, 660, 417, 929, 510, 379, 794, 186, 901, 959, 205, 344, 543, 987, 227, 311, 65, 80, 36, 820, 173, 189, 17, 353, 472, 492, 67, 465, 116, 252, 748, 596, 509, 557, 567, 645, 477, 994, 553, 375, 18, 448, 672, 668, 72, 339, 614, 233, 467, 291, 99, 585, 425, 730, 246, 244, 247, 656, 718, 94, 474, 381, 812, 889, 456, 886, 823, 781, 520, 905, 664, 443, 597, 342, 538, 791, 714, 869, 843, 505, 504, 577, 256, 732, 842, 202, 100, 129, 715, 44, 194, 75, 821, 193, 267, 827, 111, 692, 8, 958, 242, 724, 521, 214, 589, 705, 165, 861, 395, 345, 890, 167, 531, 151, 832, 816, 729, 836, 328, 55, 315, 665, 654, 891, 155, 500, 419, 620, 963, 957, 708, 10, 927, 427, 882, 646, 653, 394, 11, 25, 786, 181, 62, 445, 623, 551, 873, 123, 840, 803, 885, 716, 321, 679, 502, 176, 658, 212, 691, 961, 759, 874, 224, 245, 198, 678, 787, 397, 819, 733, 773, 552, 650, 302, 461, 447, 357, 722, 46, 633, 278, 838, 188, 670, 888, 251, 570, 865, 766, 990, 497, 511, 147, 377, 457, 272, 972, 752, 695, 507, 391, 985, 979, 846, 319, 240, 694, 211, 463, 711, 14, 150, 51, 296, 866, 619, 801, 939, 34, 24, 920, 804, 547, 498, 89, 416, 138, 389, 316, 831, 175, 967, 37, 59, 749, 605, 526, 326, 978, 204, 411, 962, 739, 336, 237, 894, 40, 52, 38, 284, 225, 258, 717, 569, 534, 897, 508, 206, 533, 754, 432, 775, 841, 154, 337, 785, 917, 441, 403, 444, 572, 687, 591, 471, 625, 704, 479, 161, 192, 611, 814, 560, 135, 259, 860, 201, 702, 329, 107, 22, 216, 85, 909, 604, 179, 634, 306, 652, 265, 966, 790, 983, 723, 776, 148, 97, 136, 6, 170, 119, 899, 584, 368, 333, 236, 386, 440, 942, 243, 630, 486, 777, 686, 757, 23, 525, 352, 677, 347, 26, 811, 312, 108, 400, 928, 69, 250, 428, 499, 910, 626, 516, 144, 970, 871, 713, 274, 404, 446, 105, 210, 916, 238, 117, 883, 556, 737, 338, 254, 41, 12, 318, 128, 455, 348, 922, 834, 674, 847, 852, 879, 768, 288, 356, 340, 535, 867, 374, 209, 830, 720, 131, 124, 684, 825, 727, 893, 772, 992, 54, 414, 9, 747, 868, 746, 563, 488, 385, 33, 523, 452, 799, 83, 464, 751, 566, 476, 764, 91, 294, 859, 218, 232, 309, 29, 571, 418, 895, 512, 875, 118, 595, 2, 537, 824, 279, 177, 495, 58, 298, 293, 373, 641, 164, 784, 935, 221, 769, 996, 141, 628, 241, 332, 931, 354, 310, 187, 848, 415, 527, 494, 234, 977, 666, 239, 87, 60, 407, 70, 45, 699, 984, 39, 171, 514, 341, 429, 568, 473, 283, 132, 217, 907, 96, 482, 745, 378, 195, 372, 106, 422, 435, 383, 590, 858, 980, 828, 163, 697, 269, 303, 396, 290, 142, 436, 594, 839, 262, 408, 466, 458, 870, 892, 530, 409, 410, 437, 602, 855, 496, 384, 829, 599, 355, 844, 158, 160, 807, 601, 399, 47, 248, 297, 555, 208, 153, 93, 750, 637, 989, 725, 113, 185, 478, 323, 273, 999, 761, 608, 307, 266, 235, 700, 79, 73, 661, 644, 952, 325, 320, 647, 545, 758, 222, 548, 856, 226, 277, 7, 490, 914, 648, 4, 49, 903, 813, 387, 924, 789, 546, 295, 835, 84, 565, 913, 522, 426, 881, 139, 140, 137, 558, 618, 950, 632, 78, 800, 174, 587, 191, 955, 631, 451, 580, 282, 964, 3, 635, 30, 223, 573, 271, 257, 382, 13, 481, 50, 948, 468, 675, 367, 953, 900, 524, 651, 268, 574, 402, 798, 662, 949, 998, 380, 346, 582, 103]\n"
          ],
          "name": "stdout"
        }
      ]
    }
  ]
}